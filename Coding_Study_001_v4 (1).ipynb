{
  "nbformat": 4,
  "nbformat_minor": 0,
  "metadata": {
    "colab": {
      "name": "Coding_Study_001_v4.ipynb",
      "provenance": []
    },
    "kernelspec": {
      "name": "python3",
      "display_name": "Python 3"
    }
  },
  "cells": [
    {
      "cell_type": "markdown",
      "metadata": {
        "id": "X9PEupotC8s-"
      },
      "source": [
        "Template for this colab: https://colab.research.google.com/drive/1dJFunMg6wT-ht8TQ5xpo3PNrnvDkjlhx"
      ]
    },
    {
      "cell_type": "markdown",
      "metadata": {
        "id": "TBbI6bRqx_3j"
      },
      "source": [
        "# Let's do \"Code Challenges\" !\n",
        "\n",
        "### Step 1: Make your own copy of this Colab Notebook\n",
        "- (In this window) Go to 'File' -> 'Save a copy in Drive'\n",
        "- (optional) Rename your copy\n",
        "\n",
        "### Step 2: Go to Edabite\n",
        "- https://edabit.com/challenges/python3\n",
        "- Pick the next challenge you want to do.\n"
      ]
    },
    {
      "cell_type": "markdown",
      "metadata": {
        "id": "uYrqwk7cws7I"
      },
      "source": [
        "# Process\n",
        "We will work in a few browser windows at the same time.  \n",
        "\n",
        "Steps:\n",
        "\n",
        "1. Pick a challenge on a code-challenge website, such as edabite.com\n",
        "2. Write and Test your code here in this Colab Notebook. This Notebook is yours and saved for later.\n",
        "3. Write good code using a clean readable style: Problem, Solution, Comment your code, etc.\n",
        "4. Then submit your answers to Edabite (they will test your code).\n"
      ]
    },
    {
      "cell_type": "markdown",
      "metadata": {
        "id": "c273fDnNBo4j"
      },
      "source": [
        "# Code! \n",
        "#### The first few code challenges are set up to try below."
      ]
    },
    {
      "cell_type": "markdown",
      "metadata": {
        "id": "6bCDws32xOR9"
      },
      "source": [
        "## 1. Print \"Hello\"\n",
        "https://edabit.com/challenge/8ym3dKrL3svkYr4h4"
      ]
    },
    {
      "cell_type": "code",
      "metadata": {
        "id": "_QP-dkGYwsAO"
      },
      "source": [
        "# 1. Hello! https://edabit.com/challenge/8ym3dKrL3svkYr4h4\n",
        "\n",
        "# Problem (User Problem)\n",
        "# You Have: \n",
        "# You Need: \n",
        "# You Must: \n",
        " \n",
        "# Solution (Product / Feature for User)\n",
        "# \n",
        " \n",
        "# I Learned:\n",
        "# (Compare to other solutions)\n",
        " \n",
        "# YOUR CODE HERE\n",
        "\n",
        "def hello():"
      ],
      "execution_count": null,
      "outputs": []
    },
    {
      "cell_type": "code",
      "metadata": {
        "id": "pGNfm3i41bEF"
      },
      "source": [
        "# Test your function\n",
        "hello()"
      ],
      "execution_count": null,
      "outputs": []
    },
    {
      "cell_type": "markdown",
      "metadata": {
        "id": "PeAiZtddxTQJ"
      },
      "source": [
        "## 2. Elecrical \"Power\" Calculator\n",
        "https://edabit.com/challenge/v5gc8FQkDEepkqpfp\n"
      ]
    },
    {
      "cell_type": "code",
      "metadata": {
        "id": "nijxh38lw5z4"
      },
      "source": [
        "# Power Calculator https://edabit.com/challenge/v5gc8FQkDEepkqpfp\n",
        "\n",
        "# Problem (User Problem)\n",
        "# You Have: \n",
        "# You Need: \n",
        "# You Must: \n",
        " \n",
        "# Solution (Product / Feature for User)\n",
        "# \n",
        " \n",
        "# I Learned:\n",
        "# (Compare to other solutions)\n",
        " \n",
        "# YOUR CODE HERE\n",
        "\n",
        "def circuit_power(voltage, current):"
      ],
      "execution_count": null,
      "outputs": []
    },
    {
      "cell_type": "code",
      "metadata": {
        "id": "haLXRkwk1fB0"
      },
      "source": [
        "# Test your function\n",
        "# enter two numbers e.g. (4,5), or (230,345)\n",
        "circuit_power(,)"
      ],
      "execution_count": null,
      "outputs": []
    },
    {
      "cell_type": "markdown",
      "metadata": {
        "id": "QF5L-nNoxdZh"
      },
      "source": [
        "# 3. Output: Sum of Two Numbers\n",
        "https://edabit.com/challenge/rZToTkR5eB9Zn4zLh\n"
      ]
    },
    {
      "cell_type": "code",
      "metadata": {
        "id": "iEnULmnXxdhi"
      },
      "source": [
        "# Power Calculator https://edabit.com/challenge/rZToTkR5eB9Zn4zLh\n",
        "\n",
        "# Problem (User Problem)\n",
        "# You Have: \n",
        "# You Need: \n",
        "# You Must: \n",
        " \n",
        "# Solution (Product / Feature for User)\n",
        "# \n",
        " \n",
        "# I Learned:\n",
        "# (Compare to other solutions)\n",
        " \n",
        "# YOUR CODE HERE\n",
        "\n",
        "def addition(a, b):"
      ],
      "execution_count": null,
      "outputs": []
    },
    {
      "cell_type": "code",
      "metadata": {
        "id": "m6MkepT31ufH"
      },
      "source": [
        "# Test your function\n",
        "# enter two numbers e.g. (4,5), or (230,345)\n",
        "addition(,)"
      ],
      "execution_count": null,
      "outputs": []
    },
    {
      "cell_type": "markdown",
      "metadata": {
        "id": "8o3fJ3pSCp4S"
      },
      "source": [
        "# 4. Next Number\n",
        "\n",
        "https://edabit.com/challenge/KjCS7occ9hfu5snpb"
      ]
    },
    {
      "cell_type": "code",
      "metadata": {
        "id": "bziYNXd90mgJ"
      },
      "source": [
        "# Power Calculator https://edabit.com/challenge/v5gc8FQkDEepkqpfp\n",
        "\n",
        "# Problem (User Problem)\n",
        "# You Have: \n",
        "# You Need: \n",
        "# You Must: \n",
        " \n",
        "# Solution (Product / Feature for User)\n",
        "# \n",
        " \n",
        "# I Learned:\n",
        "# (Compare to other solutions)\n",
        " \n",
        "# YOUR CODE HERE"
      ],
      "execution_count": null,
      "outputs": []
    },
    {
      "cell_type": "code",
      "metadata": {
        "id": "gBR058wn11us"
      },
      "source": [
        "# Test your function\n"
      ],
      "execution_count": null,
      "outputs": []
    },
    {
      "cell_type": "markdown",
      "metadata": {
        "id": "18vumh5eg0yi"
      },
      "source": [
        "# Example"
      ]
    },
    {
      "cell_type": "code",
      "metadata": {
        "id": "0G8MPt5mK-18",
        "colab": {
          "base_uri": "https://localhost:8080/"
        },
        "outputId": "d4c871ea-afa1-49df-97a6-89d4723d613d"
      },
      "source": [
        "# example:\n",
        "\n",
        "# YOUR CODE HERE\n",
        "def add_these_number(first_number, second_number):\n",
        "    return first_number + second_number\n",
        "\n",
        "# Test your function\n",
        "print(\"And the answer is...\")\n",
        "add_these_number(1,2)"
      ],
      "execution_count": null,
      "outputs": [
        {
          "output_type": "stream",
          "text": [
            "And the answer is...\n"
          ],
          "name": "stdout"
        },
        {
          "output_type": "execute_result",
          "data": {
            "text/plain": [
              "3"
            ]
          },
          "metadata": {
            "tags": []
          },
          "execution_count": 2
        }
      ]
    },
    {
      "cell_type": "markdown",
      "metadata": {
        "id": "7pAutEtjGA4-"
      },
      "source": [
        "# 5. Convert Minutes into Seconds\n",
        "\n",
        "https://edabit.com/challenge/FQyaaJx7orS7tiwz8"
      ]
    },
    {
      "cell_type": "code",
      "metadata": {
        "id": "lvDkyFfsGA5C"
      },
      "source": [
        "# Convert Minutes into Seconds https://edabit.com/challenge/FQyaaJx7orS7tiwz8\n",
        "\n",
        "# Problem (User Problem)\n",
        "# You Have: \n",
        "# You Need: \n",
        "# You Must: \n",
        " \n",
        "# Solution (Product / Feature for User)\n",
        "# \n",
        " \n",
        "# I Learned:\n",
        "# (Compare to other solutions)\n",
        " \n",
        "# YOUR CODE HERE"
      ],
      "execution_count": null,
      "outputs": []
    },
    {
      "cell_type": "code",
      "metadata": {
        "id": "v4CYvwVPGA5K"
      },
      "source": [
        "# Test your function\n"
      ],
      "execution_count": null,
      "outputs": []
    },
    {
      "cell_type": "markdown",
      "metadata": {
        "id": "vO1ZF8bUGgP5"
      },
      "source": [
        "# 6. Area of a Triangle\n",
        "\n",
        "https://edabit.com/challenge/aWLTzrRsrw7RakYrN"
      ]
    },
    {
      "cell_type": "code",
      "metadata": {
        "id": "OuOE1ImFGgQG"
      },
      "source": [
        "# Area of a Triangle https://edabit.com/challenge/aWLTzrRsrw7RakYrN\n",
        "\n",
        "# Problem (User Problem)\n",
        "# You Have: \n",
        "# You Need: \n",
        "# You Must: \n",
        " \n",
        "# Solution (Product / Feature for User)\n",
        "# \n",
        " \n",
        "# I Learned:\n",
        "# (Compare to other solutions)\n",
        " \n",
        "# YOUR CODE HERE"
      ],
      "execution_count": null,
      "outputs": []
    },
    {
      "cell_type": "code",
      "metadata": {
        "id": "-NnDAq8iGgQU"
      },
      "source": [
        "# Test your function\n"
      ],
      "execution_count": null,
      "outputs": []
    },
    {
      "cell_type": "markdown",
      "metadata": {
        "id": "WXKV-70LGx3x"
      },
      "source": [
        "# 7. Remainder! \"modulus\"\n",
        "# Return the Remainder from (Dividing) Two Numbers\n",
        "\n",
        "https://edabit.com/challenge/KWoj7kWiHRqJtG6S2"
      ]
    },
    {
      "cell_type": "code",
      "metadata": {
        "id": "Y-h_9e6jGx36"
      },
      "source": [
        "# Return the Remainder from Two Numbers https://edabit.com/challenge/KWoj7kWiHRqJtG6S2\n",
        "\n",
        "# Problem (User Problem)\n",
        "# You Have: \n",
        "# You Need: \n",
        "# You Must: \n",
        " \n",
        "# Solution (Product / Feature for User)\n",
        "# \n",
        " \n",
        "# I Learned:\n",
        "# (Compare to other solutions)\n",
        " \n",
        "# YOUR CODE HERE"
      ],
      "execution_count": null,
      "outputs": []
    },
    {
      "cell_type": "code",
      "metadata": {
        "id": "zcBAhSBMGx4P"
      },
      "source": [
        "# Test your function\n"
      ],
      "execution_count": null,
      "outputs": []
    },
    {
      "cell_type": "markdown",
      "metadata": {
        "id": "fQpPj7ENHRgw"
      },
      "source": [
        "# 8. Return a String as an Integer (Data Types)\n",
        "\n",
        "https://edabit.com/challenge/GPmoRCZKkyNtoJMcN"
      ]
    },
    {
      "cell_type": "code",
      "metadata": {
        "id": "uGGDjtS8HRhH"
      },
      "source": [
        "# Return a String as an Integer https://edabit.com/challenge/GPmoRCZKkyNtoJMcN\n",
        "\n",
        "# Problem (User Problem)\n",
        "# You Have: \n",
        "# You Need: \n",
        "# You Must: \n",
        " \n",
        "# Solution (Product / Feature for User)\n",
        "# \n",
        " \n",
        "# I Learned:\n",
        "# (Compare to other solutions)\n",
        " \n",
        "# YOUR CODE HERE"
      ],
      "execution_count": null,
      "outputs": []
    },
    {
      "cell_type": "code",
      "metadata": {
        "id": "DPfipPxTHRhb"
      },
      "source": [
        "# Test your function\n"
      ],
      "execution_count": null,
      "outputs": []
    },
    {
      "cell_type": "code",
      "metadata": {
        "id": "zsXJJieaF_h_"
      },
      "source": [
        ""
      ],
      "execution_count": null,
      "outputs": []
    },
    {
      "cell_type": "markdown",
      "metadata": {
        "id": "MUY3I2U9Kxqj"
      },
      "source": [
        "# 9. To the Power of _____\n",
        "\n",
        "https://edabit.com/challenge/xWSjvoH7mEkSnqS7H"
      ]
    },
    {
      "cell_type": "code",
      "metadata": {
        "id": "_6AeSJCKKxq6"
      },
      "source": [
        "# To the Power of _____ https://edabit.com/challenge/xWSjvoH7mEkSnqS7H\n",
        "\n",
        "# Problem (User Problem)\n",
        "# You Have: \n",
        "# You Need: \n",
        "# You Must: \n",
        " \n",
        "# Solution (Product / Feature for User)\n",
        "# \n",
        " \n",
        "# I Learned:\n",
        "# (Compare to other solutions)\n",
        " \n",
        "# YOUR CODE HERE"
      ],
      "execution_count": null,
      "outputs": []
    },
    {
      "cell_type": "code",
      "metadata": {
        "id": "8MV4UYfSKxrM"
      },
      "source": [
        "# Test your function\n"
      ],
      "execution_count": null,
      "outputs": []
    },
    {
      "cell_type": "markdown",
      "metadata": {
        "id": "lFQ52kjzzk8-"
      },
      "source": [
        "# Learning Goals:\n",
        "1. Understand Basic Tools & Environments\n",
        "2. Solve Some Code Challenges\n",
        "\n",
        "\n",
        "### Main Tools:\n",
        "- Editor \t(Text editor, ~ IDE, like Word Processor)\n",
        "- Terminal (Command Prompt, Shell, ~Bash)\n",
        "- Notebook (Jyputer, Colab)\n",
        "\n",
        "### Environment:\n",
        "- local or online\n",
        "- linter, formater\n",
        "- virtual/container\n",
        "\n",
        "### Code Challenge Websites: (Try them all)\n",
        "- edabit https://edabit.com/ https://edabit.com/challenges/python3 \n",
        "- Code Signal https://app.codesignal.com/ \n",
        "- Leet Code https://leetcode.com/ \n",
        "- Hacker Rank https://www.hackerrank.com/ \n"
      ]
    },
    {
      "cell_type": "markdown",
      "metadata": {
        "id": "hb4-K6BLCRG_"
      },
      "source": [
        "### *Next*: Try coding in a terminal (story-based)\n",
        "- http://ReadMeAdventures.com\n"
      ]
    }
  ]
}